{
 "cells": [
  {
   "cell_type": "markdown",
   "id": "9448f281",
   "metadata": {},
   "source": [
    "# Introduction à l'Optimisation de Chaîne d'Approvisionnement\n",
    "\n",
    "##  Objectif\n",
    "\n",
    "Ce projet démontre comment optimiser les paramètres d'inventaire d'une chaîne d'approvisionnement simple en utilisant différentes techniques d'optimisation basées sur la simulation.\n",
    "\n",
    "## Cas d'étude simplifié\n",
    "\n",
    "- **1 Fabricant** (Samsung) : Capacité illimitée\n",
    "- **1 Grossiste** (LDLC) : Stock limité avec politique (S,s)\n",
    "- **1 Détaillant** (Fnac) : Stock limité avec politique (S,s)\n",
    "- **Clients** : Arrivées selon processus de Poisson\n",
    "\n",
    "## Variables de décision\n",
    "- `S_grossiste` : Capacité maximale de stock du grossiste\n",
    "- `s_grossiste` : Seuil de réapprovisionnement du grossiste\n",
    "- `S_detaillant` : Capacité maximale de stock du détaillant\n",
    "- `s_detaillant` : Seuil de réapprovisionnement du détaillant"
   ]
  },
  {
   "cell_type": "code",
   "execution_count": null,
   "id": "862bf458",
   "metadata": {},
   "outputs": [
    {
     "name": "stdout",
     "output_type": "stream",
     "text": [
      "✅ Imports réussis!\n"
     ]
    }
   ],
   "source": [
    "# %%\n",
    "# Imports nécessaires\n",
    "import numpy as np\n",
    "import pandas as pd\n",
    "import matplotlib.pyplot as plt\n",
    "import seaborn as sns\n",
    "import simpy\n",
    "from typing import Dict, List, Tuple, Optional\n",
    "import time\n",
    "import warnings\n",
    "warnings.filterwarnings('ignore')\n",
    "\n",
    "# Configuration des graphiques\n",
    "plt.style.use('seaborn-v0_8-darkgrid')\n",
    "sns.set_palette(\"husl\")\n",
    "plt.rcParams['figure.figsize'] = (10, 6)\n",
    "plt.rcParams['font.size'] = 12\n",
    "\n",
    "print(\"✅ Imports réussis!\")"
   ]
  },
  {
   "cell_type": "markdown",
   "id": "bf59b9cb",
   "metadata": {},
   "source": [
    "# 🔧 Configuration des paramètres"
   ]
  },
  {
   "cell_type": "code",
   "execution_count": null,
   "id": "f8086b66",
   "metadata": {},
   "outputs": [
    {
     "name": "stdout",
     "output_type": "stream",
     "text": [
      "📊 Configuration chargée:\n",
      "  - marge_smartphone: 80\n",
      "  - cout_stockage_grossiste: 2.0\n",
      "  - cout_stockage_detaillant: 5.0\n",
      "  - cout_livraison_fabricant: 800\n",
      "  - delai_livraison_fabricant: 5\n",
      "  - cout_livraison_grossiste: 50\n",
      "  - delai_livraison_grossiste: 1\n",
      "  - taux_arrivee_clients: 15\n",
      "  - achat_min: 1\n",
      "  - achat_max: 3\n",
      "  - duree_simulation: 90\n",
      "  - nombre_replications: 50\n"
     ]
    }
   ],
   "source": [
    "# Paramètres économiques et logistiques\n",
    "CONFIG = {\n",
    "    # Paramètres économiques\n",
    "    'marge_smartphone': 80,      # Profit par smartphone vendu (€)\n",
    "    'cout_stockage_grossiste': 2.0,   # Coût de stockage par unité/jour (€)\n",
    "    'cout_stockage_detaillant': 5.0,  # Coût de stockage par unité/jour (€)\n",
    "    \n",
    "    # Paramètres logistiques\n",
    "    'cout_livraison_fabricant': 800,   # Coût de livraison fabricant->grossiste (€)\n",
    "    'delai_livraison_fabricant': 5,    # Délai de livraison (jours)\n",
    "    'cout_livraison_grossiste': 50,    # Coût de livraison grossiste->détaillant (€)\n",
    "    'delai_livraison_grossiste': 1,    # Délai de livraison (jours)\n",
    "    \n",
    "    # Paramètres de demande\n",
    "    'taux_arrivee_clients': 15,        # Clients par jour (λ pour Poisson)\n",
    "    'achat_min': 1,                    # Minimum de smartphones par client\n",
    "    'achat_max': 3,                    # Maximum de smartphones par client\n",
    "    \n",
    "    # Paramètres de simulation\n",
    "    'duree_simulation': 90,            # Durée de simulation (jours)\n",
    "    'nombre_replications': 50,         # Nombre de réplications pour moyennes \n",
    "}\n",
    "\n",
    "# Espaces de recherche pour l'optimisation\n",
    "BOUNDS = {\n",
    "    'S_grossiste': (600, 1200),   # Capacité stock grossiste \n",
    "    's_grossiste': (200, 500),    # Seuil réappro grossiste\n",
    "    'S_detaillant': (100, 300),   # Capacité stock détaillant\n",
    "    's_detaillant': (30, 100),    # Seuil réappro détaillant\n",
    "}\n",
    "\n",
    "print(\"📊 Configuration chargée:\")\n",
    "for key, value in CONFIG.items():\n",
    "    print(f\"  - {key}: {value}\")"
   ]
  },
  {
   "cell_type": "markdown",
   "id": "c3b36e2a",
   "metadata": {},
   "source": [
    " #  Architecture de la solution\n",
    " \n",
    " ## Approche méthodologique\n",
    " \n",
    " 1. **Modélisation** : Simulation événementielle avec SimPy\n",
    " 2. **Exploration** : Analyse de l'espace de conception\n",
    " 3. **Optimisation** : Comparaison de plusieurs algorithmes\n",
    "    - Monte Carlo (recherche aléatoire)\n",
    "    - Recherche par grille\n",
    "    - Métamodèle GPR + Optimisation\n",
    "    - Algorithmes évolutionnaires\n",
    " 4. **Analyse** : Comparaison des performances"
   ]
  },
  {
   "cell_type": "code",
   "execution_count": 3,
   "id": "4d05bbc6",
   "metadata": {},
   "outputs": [
    {
     "name": "stdout",
     "output_type": "stream",
     "text": [
      "✅ Répertoires créés\n"
     ]
    }
   ],
   "source": [
    "# Fonction utilitaire pour sauvegarder les résultats\n",
    "import os\n",
    "\n",
    "def create_directories():\n",
    "    \"\"\"Créer les répertoires nécessaires\"\"\"\n",
    "    dirs = ['results', 'results/figures', 'results/data', 'src']\n",
    "    for d in dirs:\n",
    "        os.makedirs(d, exist_ok=True)\n",
    "    print(\"✅ Répertoires créés\")\n",
    "\n",
    "create_directories()"
   ]
  },
  {
   "cell_type": "markdown",
   "id": "f044c368",
   "metadata": {},
   "source": []
  },
  {
   "cell_type": "markdown",
   "id": "f93bd3ac",
   "metadata": {},
   "source": [
    " # Métriques de performance\n",
    " \n",
    " ## Métriques principales\n",
    " \n",
    " 1. **Profit net quotidien** = Revenus - Coûts totaux\n",
    "    - Revenus = Nombre de ventes × Marge unitaire\n",
    "    - Coûts = Coûts de stockage + Coûts de livraison\n",
    " \n",
    " 2. **Taux de service** = Clients servis / Total clients × 100%\n",
    " \n",
    " 3. **Niveau de stock moyen** = Moyenne temporelle du stock\n",
    " \n",
    " 4. **Temps de rupture** = % du temps avec stock = 0\n"
   ]
  },
  {
   "cell_type": "code",
   "execution_count": null,
   "id": "6ef9393f",
   "metadata": {},
   "outputs": [],
   "source": [
    "# Classes pour stocker les résultats\n",
    "from dataclasses import dataclass\n",
    "from typing import List\n",
    "\n",
    "@dataclass\n",
    "class SimulationResults:\n",
    "    \"\"\"Résultats d'une simulation\"\"\"\n",
    "    profit_net: float\n",
    "    taux_service: float\n",
    "    stock_moyen_grossiste: float\n",
    "    stock_moyen_detaillant: float\n",
    "    cout_stockage_total: float\n",
    "    cout_livraison_total: float\n",
    "    ventes_totales: int\n",
    "    clients_perdus: int\n",
    "    \n",
    "    def __str__(self):\n",
    "        return f\"\"\"\n",
    "        📊 Résultats de simulation:\n",
    "        - Profit net: {self.profit_net:.2f}€/jour\n",
    "        - Taux de service: {self.taux_service:.1%}\n",
    "        - Stock moyen (G/D): {self.stock_moyen_grossiste:.0f}/{self.stock_moyen_detaillant:.0f}\n",
    "        - Ventes totales: {self.ventes_totales}\n",
    "        \"\"\"\n",
    "\n",
    "@dataclass\n",
    "class OptimizationResults:\n",
    "    \"\"\"Résultats d'optimisation\"\"\"\n",
    "    algorithm: str\n",
    "    best_params: Dict[str, float]\n",
    "    best_profit: float\n",
    "    convergence_history: List[float]\n",
    "    computation_time: float\n",
    "    n_evaluations: int\n",
    "    \n",
    "    def summary(self):\n",
    "        return pd.DataFrame({\n",
    "            'Algorithme': [self.algorithm],\n",
    "            'Profit optimal': [f\"{self.best_profit:.2f}€\"],\n",
    "            'Temps calcul': [f\"{self.computation_time:.1f}s\"],\n",
    "            'Évaluations': [self.n_evaluations],\n",
    "            'S_grossiste': [self.best_params['S_grossiste']],\n",
    "            's_grossiste': [self.best_params['s_grossiste']],\n",
    "            'S_detaillant': [self.best_params['S_detaillant']],\n",
    "            's_detaillant': [self.best_params['s_detaillant']]\n",
    "        })\n",
    "\n",
    "print(\"✅ Classes de résultats définies\")"
   ]
  },
  {
   "cell_type": "markdown",
   "id": "6b019023",
   "metadata": {},
   "source": [
    " \n",
    " Dans le notebook suivant, nous allons implémenter le modèle de simulation SimPy simplifié.\n",
    " \n",
    " ## Points clés à retenir:\n",
    " \n",
    " 1. **Simplification** : 1 seul détaillant pour faciliter l'analyse\n",
    " 2. **Politique (S,s)** : Commande quand stock < s, jusqu'à atteindre S\n",
    " 3. **Objectif** : Maximiser le profit net quotidien\n",
    " 4. **Contraintes** : Satisfaire la demande client tout en minimisant les coûts\n"
   ]
  },
  {
   "cell_type": "code",
   "execution_count": 4,
   "id": "37001baa",
   "metadata": {},
   "outputs": [
    {
     "name": "stdout",
     "output_type": "stream",
     "text": [
      "💾 Configuration sauvegardée dans results/data/config.pkl\n",
      "\n",
      "➡️ Passez au notebook 02_simulation_base.ipynb\n"
     ]
    }
   ],
   "source": [
    "import pickle\n",
    "\n",
    "with open('results/data/config.pkl', 'wb') as f:\n",
    "    pickle.dump({'CONFIG': CONFIG, 'BOUNDS': BOUNDS}, f)\n",
    "    \n",
    "print(\"💾 Configuration sauvegardée dans results/data/config.pkl\")\n",
    "print(\"\\n➡️ Passez au notebook 02_simulation_base.ipynb\")"
   ]
  }
 ],
 "metadata": {
  "kernelspec": {
   "display_name": "Python 3",
   "language": "python",
   "name": "python3"
  },
  "language_info": {
   "codemirror_mode": {
    "name": "ipython",
    "version": 3
   },
   "file_extension": ".py",
   "mimetype": "text/x-python",
   "name": "python",
   "nbconvert_exporter": "python",
   "pygments_lexer": "ipython3",
   "version": "3.11.9"
  }
 },
 "nbformat": 4,
 "nbformat_minor": 5
}
